import pandas as pd
import matplotlib.pyplot as plt
import numpy as np
import re
path_sensor = r"C:\Users\Michael Safonau\OneDrive - HSOS\Uni-Mischa-Surface\6 Semester\Bachelorarbeit\Messsensordaten\Daten_Sensoraufnahmen\µEpsilon\Temp und Position\Data Protocols\protokole\3mm\770+-8.csv"
df = pd.read_csv(path_sensor, sep="\t", engine="python", encoding="latin1", skiprows=11)
RAW_array = df.iloc[:, 11:11+512].apply(pd.to_numeric, errors='coerce').to_numpy()
DARK_array = df.iloc[:, 513:513+512].apply(pd.to_numeric, errors='coerce').to_numpy()
LIGHT_array = df.iloc[:, 1025:1025+512].apply(pd.to_numeric, errors='coerce').to_numpy()
spalten_zum_entfernen = df.columns[11:1537]
df.drop(columns=spalten_zum_entfernen)
df.head()
